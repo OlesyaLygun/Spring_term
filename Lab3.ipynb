{
 "cells": [
  {
   "cell_type": "markdown",
   "metadata": {},
   "source": [
    "# Несколько примеров использования Numpy\n",
    "\n",
    "1. Письменный экзамен оказался слишком сложным, и преподаватель решил добавить каждому студенту не менее некоторого количества очков, чтобы в итоге было поменьше плохих оценок. Поможем ему пересчитать первичные баллы в итоговые.\n",
    "\n",
    "Импортируем библиотеку Numpy:"
   ]
  },
  {
   "cell_type": "code",
   "execution_count": 4,
   "metadata": {},
   "outputs": [],
   "source": [
    "import numpy as np"
   ]
  },
  {
   "cell_type": "markdown",
   "metadata": {},
   "source": [
    "Зададим среднее значение итоговых баллов:"
   ]
  },
  {
   "cell_type": "code",
   "execution_count": 5,
   "metadata": {},
   "outputs": [],
   "source": [
    "CURVE_CENTER = 80"
   ]
  },
  {
   "cell_type": "markdown",
   "metadata": {},
   "source": [
    "Создадим массив оценок:"
   ]
  },
  {
   "cell_type": "code",
   "execution_count": 6,
   "metadata": {},
   "outputs": [],
   "source": [
    "grades = np.array([72, 35, 64, 88, 51, 90, 74, 12])"
   ]
  },
  {
   "cell_type": "markdown",
   "metadata": {},
   "source": [
    "Напишем функцию, которая осуществляет пересчёт:"
   ]
  },
  {
   "cell_type": "code",
   "execution_count": 7,
   "metadata": {},
   "outputs": [],
   "source": [
    "def curve(grades):\n",
    "    average = grades.mean() # определяем средний первичный балл\n",
    "    change = CURVE_CENTER - average # определяем количество добавляемое количество очков\n",
    "    new_grades = grades + change # добавляем это количество очков\n",
    "    return np.clip(new_grades, grades, 100)"
   ]
  },
  {
   "cell_type": "markdown",
   "metadata": {},
   "source": [
    "Рассмотрим последнюю строку. Если новая оценка оказалась меньше старой, заменяем её на старую, а если больше 100 - то заменяем на 100. Вызовем функцию:"
   ]
  },
  {
   "cell_type": "code",
   "execution_count": 8,
   "metadata": {},
   "outputs": [
    {
     "name": "stdout",
     "output_type": "stream",
     "text": [
      "[ 91.25  54.25  83.25 100.    70.25 100.    93.25  31.25]\n"
     ]
    }
   ],
   "source": [
    "print(curve(grades))"
   ]
  },
  {
   "cell_type": "markdown",
   "metadata": {},
   "source": [
    "## Упражнение 1\n",
    "\n",
    "В файле `melting.txt` приведены значения флуоресценции различных образцов в диапазоне температур от 28 до 95 градусов. Сами эти абсолютные значения не слишком интересуют исследователей: важнее форма кривых. Чтобы было удобнее сравнивать кривые между собой, отнормируйте их (минимальное значение - 0, максимальное - 1, промежуточное значение делится на разницу между максимальным и минимальным значением). Постройте графики получившихся кривых."
   ]
  },
  {
   "cell_type": "code",
   "execution_count": 23,
   "metadata": {},
   "outputs": [
    {
     "data": {
      "image/png": "[encoded data removed]",
      "text/plain": [
       "<Figure size 432x288 with 1 Axes>"
      ]
     },
     "metadata": {
      "needs_background": "light"
     },
     "output_type": "display_data"
    }
   ],
   "source": [
    "import numpy as np\n",
    "import matplotlib.pyplot as plt\n",
    "\n",
    "def norm(data_x):\n",
    "    data_temp = []\n",
    "    for i in range(len(data_x)):\n",
    "        data_temp.append((data_x[i] - data_x[0])/(data_x[len(data_x) - 1] - data_x[0]))\n",
    "    return(data_temp)\n",
    "\n",
    "fluo = open(r'C:\\Users\\lygun\\Downloads\\B06-107-Spring-Lab3\\melting.txt')\n",
    "data_1 = []\n",
    "data_2 = []\n",
    "data_3 = []\n",
    "data_4 = []\n",
    "for line in fluo: \n",
    "    if line.split(\"\\t\")[0] != \"t\":\n",
    "        data_1.append(float(line.split('\\t')[1]))\n",
    "        data_2.append(float(line.split('\\t')[2]))\n",
    "        data_3.append(float(line.split('\\t')[3]))\n",
    "        data_4.append(float(line.split('\\t')[4]))\n",
    "        \n",
    "plt.plot(norm(data_1), label='data_1') \n",
    "plt.plot(norm(data_2), label='data_2') \n",
    "plt.plot(norm(data_3), label='data_3') \n",
    "plt.plot(norm(data_4), label='data_4') \n",
    "leg = plt.legend(loc='upper center')\n",
    "\n",
    "plt.show()"
   ]
  },
  {
   "cell_type": "markdown",
   "metadata": {},
   "source": [
    "# 2. Изменение формы массива, многомерные массивы\n",
    "\n",
    "Массив не обязан иметь форму 1×n, то есть быть просто последовательностью чисел. Можно использовать многомерные массивы. Создадим массив от 1 до 24:"
   ]
  },
  {
   "cell_type": "code",
   "execution_count": 9,
   "metadata": {},
   "outputs": [
    {
     "data": {
      "text/plain": [
       "array([ 1,  2,  3,  4,  5,  6,  7,  8,  9, 10, 11, 12, 13, 14, 15, 16, 17,\n",
       "       18, 19, 20, 21, 22, 23, 24])"
      ]
     },
     "execution_count": 9,
     "metadata": {},
     "output_type": "execute_result"
    }
   ],
   "source": [
    "twentyfour = np.arange(1, 25, 1)\n",
    "twentyfour"
   ]
  },
  {
   "cell_type": "markdown",
   "metadata": {},
   "source": [
    "Создадим на его основе трёхмерный массив:"
   ]
  },
  {
   "cell_type": "code",
   "execution_count": 38,
   "metadata": {},
   "outputs": [
    {
     "data": {
      "text/plain": [
       "array([[[ 1,  2,  3,  4],\n",
       "        [ 5,  6,  7,  8],\n",
       "        [ 9, 10, 11, 12]],\n",
       "\n",
       "       [[13, 14, 15, 16],\n",
       "        [17, 18, 19, 20],\n",
       "        [21, 22, 23, 24]]])"
      ]
     },
     "execution_count": 38,
     "metadata": {},
     "output_type": "execute_result"
    }
   ],
   "source": [
    "twentyfour = np.arange(1, 25, 1)\n",
    "three_d = twentyfour.reshape(2, 3, 4)\n",
    "three_d"
   ]
  },
  {
   "cell_type": "markdown",
   "metadata": {},
   "source": [
    "Вычислим среднее значение трёхмерного массива:"
   ]
  },
  {
   "cell_type": "code",
   "execution_count": 13,
   "metadata": {},
   "outputs": [
    {
     "data": {
      "text/plain": [
       "12.5"
      ]
     },
     "execution_count": 13,
     "metadata": {},
     "output_type": "execute_result"
    }
   ],
   "source": [
    "three_d.mean()"
   ]
  },
  {
   "cell_type": "markdown",
   "metadata": {},
   "source": [
    "Вычислим средние от соответствующих значений первого и второго 2D-массивов, входящих в состав 3D-массива:"
   ]
  },
  {
   "cell_type": "code",
   "execution_count": 41,
   "metadata": {},
   "outputs": [
    {
     "data": {
      "text/plain": [
       "array([[ 7.,  8.,  9., 10.],\n",
       "       [11., 12., 13., 14.],\n",
       "       [15., 16., 17., 18.]])"
      ]
     },
     "execution_count": 41,
     "metadata": {},
     "output_type": "execute_result"
    }
   ],
   "source": [
    "three_d.mean(axis=0)"
   ]
  },
  {
   "cell_type": "markdown",
   "metadata": {},
   "source": [
    "Вычислим средние от каждого столбца 2D-массивов, входящих в состав 3D-массива:"
   ]
  },
  {
   "cell_type": "code",
   "execution_count": 15,
   "metadata": {},
   "outputs": [
    {
     "data": {
      "text/plain": [
       "array([[ 5.,  6.,  7.,  8.],\n",
       "       [17., 18., 19., 20.]])"
      ]
     },
     "execution_count": 15,
     "metadata": {},
     "output_type": "execute_result"
    }
   ],
   "source": [
    "three_d.mean(axis=1)"
   ]
  },
  {
   "cell_type": "markdown",
   "metadata": {},
   "source": [
    "Вычислим средние от каждой строки 2D-массивов, входящих в состав 3D-массива:"
   ]
  },
  {
   "cell_type": "code",
   "execution_count": 16,
   "metadata": {},
   "outputs": [
    {
     "data": {
      "text/plain": [
       "array([[ 2.5,  6.5, 10.5],\n",
       "       [14.5, 18.5, 22.5]])"
      ]
     },
     "execution_count": 16,
     "metadata": {},
     "output_type": "execute_result"
    }
   ],
   "source": [
    "three_d.mean(axis=2)"
   ]
  },
  {
   "cell_type": "markdown",
   "metadata": {},
   "source": [
    "## Упражнение 2\n",
    "\n",
    "Прочитайте файлы `ex2_1.txt` и `ex2_2.txt` в двумерный массив, вычислите среднее по каждому столбцу. Читая файлы, исходите из предположения, что количество столбцов в файле заранее неизвестно. Числа в строке разделены табуляцией."
   ]
  },
  {
   "cell_type": "code",
   "execution_count": 23,
   "metadata": {},
   "outputs": [
    {
     "name": "stdout",
     "output_type": "stream",
     "text": [
      "[50.35 58.65 50.55 45.35 57.4 ]\n",
      "[39.61111111 55.5        51.55555556 53.55555556 49.94444444 58.5       ]\n"
     ]
    }
   ],
   "source": [
    "import numpy as np\n",
    "import matplotlib.pyplot as plt\n",
    "\n",
    "ex2_1 = open(r'C:\\Users\\lygun\\Downloads\\B06-107-Spring-Lab3\\ex2_1.txt')\n",
    "ex2_2 = open(r'C:\\Users\\lygun\\Downloads\\B06-107-Spring-Lab3\\ex2_2.txt')\n",
    "data_1 = []\n",
    "data_2 = []\n",
    "for line in ex2_1: \n",
    "        data_1.append([int(i) for i in line.split('\\t')])\n",
    "        \n",
    "for line in ex2_2: \n",
    "        data_2.append([int(i) for i in line.split('\\t')])\n",
    "        \n",
    "print(np.array(data_1).mean(axis=0))\n",
    "print(np.array(data_2).mean(axis=0))"
   ]
  },
  {
   "cell_type": "markdown",
   "metadata": {},
   "source": [
    "3. Взятие элементов по индексу\n",
    "\n",
    "Можно создавать массивы-\"срезы\" на основании имеющихся массивов:"
   ]
  },
  {
   "cell_type": "code",
   "execution_count": 18,
   "metadata": {},
   "outputs": [
    {
     "name": "stdout",
     "output_type": "stream",
     "text": [
      "[[ 1  2  3  4]\n",
      " [ 9 10 11 12]]\n"
     ]
    }
   ],
   "source": [
    "print(three_d[0, ::2,]) # взяли первый 2D-массив из 3D-массива, вытащили нечётные строки полностью"
   ]
  },
  {
   "cell_type": "code",
   "execution_count": 21,
   "metadata": {},
   "outputs": [
    {
     "name": "stdout",
     "output_type": "stream",
     "text": [
      "[[[ 6  7  8]\n",
      "  [10 11 12]]\n",
      "\n",
      " [[18 19 20]\n",
      "  [22 23 24]]]\n"
     ]
    }
   ],
   "source": [
    "print(three_d[:, 1:, 1:]) # в каждом из 2D-массивов отбросили первую строку и первый столбец"
   ]
  },
  {
   "cell_type": "markdown",
   "metadata": {},
   "source": [
    "## Упражнение 3\n",
    "\n",
    "Задан двумерный массив:\n",
    "\n",
    "```\n",
    "square = np.array([\n",
    "    [16, 3, 2, 13],\n",
    "    [5, 10, 11, 8],\n",
    "    [9, 6, 7, 12],\n",
    "    [4, 15, 14, 1]\n",
    "])\n",
    "```\n",
    "Вычислите сумму чисел в каждом столбце, в каждой строке, в каждом квадрате 2×2, который можно вырезать из имеющегося (5 шт). Выведите её на экран для каждого случая."
   ]
  },
  {
   "cell_type": "code",
   "execution_count": 46,
   "metadata": {},
   "outputs": [
    {
     "name": "stdout",
     "output_type": "stream",
     "text": [
      "[8.5 8.5 8.5 8.5]\n",
      "[8.5 8.5 8.5 8.5]\n",
      "8.5\n",
      "8.5\n",
      "8.5\n",
      "8.5\n",
      "8.5\n"
     ]
    }
   ],
   "source": [
    "square = np.array([\n",
    "    [16, 3, 2, 13],\n",
    "    [5, 10, 11, 8],\n",
    "    [9, 6, 7, 12],\n",
    "    [4, 15, 14, 1]\n",
    "])\n",
    "\n",
    "print(square.mean(axis = 0))\n",
    "print(square.mean(axis = 1))\n",
    "print(square[0:2,:2, ].mean())\n",
    "print(square[0:2,2:, ].mean())\n",
    "print(square[2:4,:2, ].mean())\n",
    "print(square[2:4,2:, ].mean())\n",
    "print(square[1:3,1:3, ].mean())"
   ]
  },
  {
   "cell_type": "markdown",
   "metadata": {},
   "source": [
    "4. Фильтрация массива\n",
    "\n",
    "В некоторых случаях требуется выбрать элементы не по индексу, а по какому-то признаку, например, делимость на 3. Для этого можно создать массив-маску. Он имеет ту же форму, что и исходный массив, однако содержит булевские значения (`True`/`False`)\n",
    "\n",
    "Создадим случайный массив 4×3 и получим маску по условию \"делится на 3\":"
   ]
  },
  {
   "cell_type": "code",
   "execution_count": 24,
   "metadata": {},
   "outputs": [
    {
     "name": "stdout",
     "output_type": "stream",
     "text": [
      "[[ 1  4 19]\n",
      " [14 11  4]\n",
      " [ 4 15  5]\n",
      " [10  7  4]]\n",
      "[[False False False]\n",
      " [False False False]\n",
      " [False  True False]\n",
      " [False False False]]\n"
     ]
    }
   ],
   "source": [
    "rnd_array = np.random.randint(0, 21, size=(4, 3))\n",
    "print(rnd_array)\n",
    "\n",
    "mask = rnd_array % 3 == 0\n",
    "print(mask)"
   ]
  },
  {
   "cell_type": "code",
   "execution_count": 25,
   "metadata": {},
   "outputs": [
    {
     "data": {
      "text/plain": [
       "array([15])"
      ]
     },
     "execution_count": 25,
     "metadata": {},
     "output_type": "execute_result"
    }
   ],
   "source": [
    "rnd_array[mask]"
   ]
  },
  {
   "cell_type": "markdown",
   "metadata": {},
   "source": [
    "## Упражнение 4\n",
    "\n",
    "Вычислите среднее и стандартное отклонение чисел из файла `ex4.txt`, затем найдите выбросы (*x* < *Q*1 - 1.5 × *IQR* или *x* > *Q*3 + 1.5 × *IQR*  и вычислите среднее и стандартное отклонение без них."
   ]
  },
  {
   "cell_type": "code",
   "execution_count": 79,
   "metadata": {
    "scrolled": true
   },
   "outputs": [
    {
     "name": "stdout",
     "output_type": "stream",
     "text": [
      "среднее: 4382.08 \n",
      "стандартное отклонение: 1816.365239041972\n",
      "среднее_2: 5071.064814814815 \n",
      "стандартное отклонение_2: 572.7614601590126\n"
     ]
    }
   ],
   "source": [
    "ex4 = open(r'C:\\Users\\lygun\\Downloads\\B06-107-Spring-Lab3\\ex4.txt')\n",
    "data = []\n",
    "\n",
    "for line in ex4: \n",
    "        data.append(int(line))\n",
    "print('среднее:', str(np.mean(data)), '\\nстандартное отклонение:', np.std(data))\n",
    "\n",
    "data.sort()\n",
    "x = [i for i in np.quantile(data, [0.25,0.5,0.75])]\n",
    "new_data = []\n",
    "for i in data:\n",
    "    if i > (x[0] - 1.5 * (x[2] - x[0])) and i < (x[2] + 1.5 * (x[2] - x[0])):\n",
    "            new_data.append(i)\n",
    "print('среднее_2:', str(np.mean(new_data)), '\\nстандартное отклонение_2:', np.std(new_data))"
   ]
  }
 ],
 "metadata": {
  "kernelspec": {
   "display_name": "Python 3 (ipykernel)",
   "language": "python",
   "name": "python3"
  },
  "language_info": {
   "codemirror_mode": {
    "name": "ipython",
    "version": 3
   },
   "file_extension": ".py",
   "mimetype": "text/x-python",
   "name": "python",
   "nbconvert_exporter": "python",
   "pygments_lexer": "ipython3",
   "version": "3.9.7"
  }
 },
 "nbformat": 4,
 "nbformat_minor": 4
}
