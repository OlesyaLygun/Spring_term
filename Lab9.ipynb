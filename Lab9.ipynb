{
 "cells": [
  {
   "cell_type": "markdown",
   "metadata": {},
   "source": [
    "# Matplotlib\n",
    "\n",
    "## Столбчатая диаграмма\n",
    "\n",
    "`matplotlib.pyplot.bar(x, height, width=0.8, bottom=None, *, align='center', data=None, **kwargs)`\n",
    "\n",
    "Столбцы расположены вдоль оси X с заданным выравниванием (alignment). Их размер задаётся высотой (height) и шириной (width).\n",
    "\n",
    "Многие параметры могут принимать как одно значение для всех столбцов, так и последовательность значений для каждого столбца.\n",
    "\n",
    "### Параметры\n",
    "\n",
    "`x`  - `float` или array-like\n",
    "Координаты столбцов по X.\n",
    "\n",
    "`height` - `float` или array-like\n",
    "Высоты (высота) столбцов.\n",
    "\n",
    "`width` - `float` или array-like, по умолчанию 0.8\n",
    "Ширина (ширины) столбцов.\n",
    "\n",
    "`bottom` - `float` или array-like, по умолчанию 0\n",
    "Координаты по Y оснований столбцов.\n",
    "\n",
    "`align` - `{'center', 'edge'}`, по умолчанию 'center'\n",
    "Выравнивание столбцов по координате X:\n",
    "\n",
    "`'center'`: на позиции `x` находится центр столбца.\n",
    "\n",
    "`'edge'`: на позиции `x` находится левая сторона столбца.\n",
    "\n",
    "Чтобы выровнять столбцы по правой стороне, передайте отрицательную ширину и `align='edge'`.\n",
    "\n",
    "**Возвращает:** `BarContainer`\n",
    "Контейнер со столбцами и опционально погрешностями.\n",
    "\n",
    "### Другие параметры (`**kwargs`) \n",
    "\n",
    "`color` - `color` или `list` значний типа `color`, необязательно\n",
    "The colors значений типа the bar faces.\n",
    "\n",
    "`edgecolor` - `color` или `list` значений типа `color`, необязательно\n",
    "Цвет границы столбцов.\n",
    "\n",
    "`linewidth` - `float` или array-like, необязательно\n",
    "Ширина границы столбцов. Если 0, границы не рисуются.\n",
    "\n",
    "`tick_label` - `str` или `list` значений типа `str`, необязательно\n",
    "Подписи столбцов по X, по умолчанию `None` (будут использованы номера)\n",
    "\n",
    "`xerr`, `yerr` - `float` или array-like значений типа shape(N,) или shape(2, N), необязательно\n",
    "Если не `None`, добавляет горизонтальные или вертикальные планки погрешностей концам столбцов. Значения добавляются и вычитаются относительно столбцов:\n",
    "\n",
    "- одно число: симметричные значения +/- для всех столбцов\n",
    "\n",
    "- shape(N,): симметричные значения +/- для каждого столбца\n",
    "\n",
    "- shape(2, N): Отдельные - и + значения для каждого столбца. Первый ряд содержит ошибки вниз, второй - ошибки вверх.\n",
    "\n",
    "- None: без погрешностей (по умолчанию)\n",
    "\n",
    "`ecolor` - `color` или `list` значений типа `color`, по умолчанию 'black'\n",
    "Цвет линий погрешностей.\n",
    "\n",
    "`capsize` - `float`, по умолчанию `rcParams[\"errorbar.capsize\"]` (по умолчанию 0.0)\n",
    "Размер маркера конца линии погрешности (┬).\n",
    "\n",
    "`error_kwdict`, необязательно\n",
    "\n",
    "Словарь параметров для описания погрешностей. Значения `ecolor` или `capsize` отсюда имеют более высокий приориет по сравнению с отдельными kwargs.\n",
    "\n",
    "`log` - `bool`, по умолчанию `False`\n",
    "Если `True`, ось Y будет логарифмической.\n",
    "\n",
    "`data` - `indexable object`, необязательно\n",
    "Если дано, все аргументы принимают строку `s`, которая интерпертируется как `data[s]` (если это не вызовет ошибку).\n",
    "\n",
    "### Подписи столбцов\n",
    "\n",
    "`matplotlib.pyplot.bar_label(container, labels=None, *, fmt='%g', label_type='edge', padding=0, **kwargs)`\n",
    "Добавляет подписи на столбчатую диаграмму, находяющуюся в `BarContainer`. Может потребоваться пересмотр длин осей, чтобы подписи влезли.\n",
    "\n",
    "#### Параметры\n",
    "\n",
    "`container` - `BarContainer`\n",
    "Контейнер, содержащий столбцы (и погрешности), который мы получили в предыдущей функции.\n",
    "\n",
    "`labels` - array-like, необязательно\n",
    "Тексты подписей. Если не задано, подписями станут значения, отформатирванные по значению `fmt`.\n",
    "\n",
    "`fmt` - `str`, default: '%g'\n",
    "Строка [формата](https://docs.python.org/3/library/string.html#formatstrings).\n",
    "\n",
    "`label_type` - `{'edge', 'center'}`, по умолчанию `'edge'`\n",
    "Тип подписи. Возможные значения:\n",
    "\n",
    "- `'edge'`: на конце столбца.\n",
    "\n",
    "- `'center'`: в середине столбца (хорошо для stacked-столбцов, то есть стоящих друг на друге)\n",
    "\n",
    "`padding` - `float`, по умолчанию 0\n",
    "Расстояние от конца столбца до подписи."
   ]
  },
  {
   "cell_type": "markdown",
   "metadata": {},
   "source": [
    "## Упражнение 1\n",
    "\n",
    "Постройте столбчатую диаграмму для результатов тестов студентов по данным файла `StudentsPerformance.csv`. Столбцы постройте для каждого теста (чтение, письмо, математика) отдельно для тех, кто проходил подготовку, и тех, кто не проходил. Высота столбца - среднее значение, погрешность - стандартное отклонение. Цвета должны быть осмысленными (например, одним цветом - подготовленные, другим - нет, или один тест - один цвет)"
   ]
  },
  {
   "cell_type": "code",
   "execution_count": 33,
   "metadata": {},
   "outputs": [
    {
     "data": {
      "image/png": "[encoded data removed]",
      "text/plain": [
       "<Figure size 432x288 with 1 Axes>"
      ]
     },
     "metadata": {
      "needs_background": "light"
     },
     "output_type": "display_data"
    }
   ],
   "source": [
    "import pandas as pd\n",
    "import numpy as np\n",
    "import matplotlib.pyplot as plt\n",
    "\n",
    "students = pd.read_csv(\"StudentsPerformance.csv\")\n",
    "\n",
    "prepared = students[students[\"test preparation course\"]=='completed'] \n",
    "unprepared = students[students[\"test preparation course\"]=='none']\n",
    "\n",
    "tests = ['math score', 'reading score', 'writing score']\n",
    "y = np.array([3, 3])\n",
    "\n",
    "for i in range(len(tests)):\n",
    "               plt.bar(np.array([3 * i + 1, 3 * i + 2]), np.array([np.mean(prepared[tests[i]]), np.mean(unprepared[tests[i]])]), \n",
    "                      yerr=np.array([np.std(prepared[tests[i]]), np.std(unprepared[tests[i]])]))"
   ]
  },
  {
   "cell_type": "markdown",
   "metadata": {},
   "source": [
    "## Точечный график"
   ]
  },
  {
   "cell_type": "code",
   "execution_count": null,
   "metadata": {},
   "outputs": [],
   "source": [
    "matplotlib.pyplot.scatter(x, y, s=None, c=None, marker=None,\n",
    "                          cmap=None, norm=None, vmin=None, vmax=None,\n",
    "                          alpha=None, linewidths=None, *,\n",
    "                          edgecolors=None, plotnonfinite=False,\n",
    "                          data=None, **kwargs)"
   ]
  },
  {
   "cell_type": "markdown",
   "metadata": {},
   "source": [
    "### Параметры\n",
    "\n",
    "`x`, `y` - `float` или array-like, shape (n, )\n",
    "The data positions.\n",
    "\n",
    "`s` - `float` или array-like, shape (n, ), необязательно\n",
    "The marker size in points**2. По умолчанию is rcParams['lines.markersize'] ** 2.\n",
    "\n",
    "`c` - array-like или `list` цветов или цвет, необязательно\n",
    "Цвет точек. Возможные значения:\n",
    "\n",
    "- одно число или последовательность чисел, которым будут поставлены в соответствия цвета с помощью `cmap` и `norm`;\n",
    "\n",
    "- 2D-массив, ряды в формате RGB или RGBA;\n",
    "\n",
    "- последовательность цветов длины `n` (по количеству точек)\n",
    "- одна строка с названием цвета\n",
    "\n",
    "⚠Обратите внимание, что `c` не должно быть единственной RGB- или RGBA-последовательностью, потому что отличить её от массива для цветовой карты невозможно. Если хочется именно такой формат, используйте 2D-массив с единственным рядом. \n",
    "\n",
    "Если все точки одного цвета, лучше использовать параметр `color`.\n",
    "\n",
    "По умолчанию `None`. В этом случае цвет точки определяется по значению параметров `color`, `facecolor` или `facecolors`. Если они не определены или имеют значение `None`, цвет точки определяется следующим цветом по умолчанию для этого графика.\n",
    "\n",
    "`marker` - `MarkerStyle`, по умолчанию: 'o'\n",
    "Форма точки. `'o', 'v', '^', '<', '>', '8', 's', 'p', '*', 'h', 'H', 'D', 'd', 'P', 'X'`\n",
    "\n",
    "`cmap` - `str` или Colormap, по умолчанию: `rcParams[\"image.cmap\"]` (по умолчанию: `'viridis'`)\n",
    "Цветовая карта. `cmap` используется только для `c` в виде массива `float`.\n",
    "\n",
    "`norm` - `Normalize`, по умолчанию: `None`\n",
    "Если `c` - это массив значений типа `float`, `norm` применяется для того, чтобы масштабировать `c` в промежуток от 0 до 1, чтобы цветовая карта сработала. Если `None`, по умолчанию `colors.Normalize`.\n",
    "\n",
    "`vmin`, `vmax` - `float`, по умолчанию: `None`\n",
    "\n",
    "`vmin` и `vmax` - значения для нормировки для цветовой схемы. Применяется вместе с `norm` по умолчанию для сопоставления массива цветам. Если `None`, будут взяты минимум и максимум массива `c`. Нельзя использовать `vmin`/`vmax` при заданном `norm`, это ошибка.\n",
    "\n",
    "`alpha` - `float`, по умолчанию: `None`\n",
    "Прозрачность, между 0 (отсутствует) и 1 (полностью непрозрачен).\n",
    "\n",
    "`linewidths` - `float` или array-like, по умолчанию: `rcParams[\"lines.linewidth\"]` (по умолчанию: 1.5)\n",
    "Ширина обводки маркера. Обратите внимание: по умолчанию `edgecolors='face'`. Возможно, вы захотите поменять и этот параметр.\n",
    "\n",
    "`edgecolors` - `{'face', 'none', None}` или цвет или последовательность цветов, по умолчанию:`rcParams[\"scatter.edgecolors\"]` (по умолчанию: `'face'`)\n",
    "Цвет обводки маркера. Возможные значения:\n",
    "\n",
    "- `'face'`: обводка по цвету как заливка.\n",
    "\n",
    "- `'none'`: нет обводки.\n",
    "\n",
    "- цвет или последовательность цветов.\n",
    "\n",
    "Для \"пустых\" (non-filled) маркеров `edgecolor` игнорируется. Его цвет определяется как `'face'`, т.e. из `c`, `colors` или `facecolors`.\n",
    "\n",
    "`plotnonfinite` - `bool`, по умолчанию: `False`\n",
    "\n",
    "Рисовать ли точки с бесконечным `c` (т.e. `inf`, `-inf` или `nan`). Если `True`, они будут нарисованы цветом `bad` для данной цветовой карты."
   ]
  },
  {
   "cell_type": "markdown",
   "metadata": {},
   "source": [
    "## Упражнение 2\n",
    "\n",
    "Постройте результаты всех трёх экзаменов на одном графике. Какой экзамен показать цветом, можно выбрать самостоятельно. Можно построить все варианты и выбрать наиболее говорящий."
   ]
  },
  {
   "cell_type": "code",
   "execution_count": 13,
   "metadata": {},
   "outputs": [
    {
     "data": {
      "image/png": "[encoded data removed]",
      "text/plain": [
       "<Figure size 432x288 with 1 Axes>"
      ]
     },
     "metadata": {
      "needs_background": "light"
     },
     "output_type": "display_data"
    }
   ],
   "source": [
    "import pandas as pd\n",
    "import numpy as np\n",
    "import matplotlib.pyplot as plt\n",
    "\n",
    "students = pd.read_csv(\"StudentsPerformance.csv\")\n",
    "\n",
    "plt.scatter(students['math score'], students['reading score'], c=students['writing score'])\n",
    "plt.ylabel('Reading score')\n",
    "plt.xlabel('Math score')\n",
    "plt.show()"
   ]
  },
  {
   "cell_type": "markdown",
   "metadata": {},
   "source": [
    "## Дополнительные элементы\n",
    "\n",
    "### Вертикальные линии\n",
    "\n",
    "    matplotlib.pyplot.vlines(x, ymin, ymax, colors=None, linestyles='solid', label='', *, data=None, **kwargs)\n",
    "\n",
    "Рисует вертикальные линии для заданного `x` от `ymin` до `ymax`.\n",
    "\n",
    "#### Параметры\n",
    "\n",
    "`x` - `float` или array-like\n",
    "\n",
    "Абсциссы вертикальных линий.\n",
    "\n",
    "`ymin`, `ymax` - `float` или array-like\n",
    "Начало и конец каждой линии. Если дать одно число в каждый параметр, все линии будут иметь одинаковую длину и положение по Y.\n",
    "\n",
    "`colors` - `list` цветов, по умолчанию: `'C0'`\n",
    "\n",
    "`linestyles` - `{'solid', 'dashed', 'dashdot', 'dotted'}`, необязательно\n",
    "\n",
    "Линия спложная, штриховая, штрихпунктирная, или пунктирная\n",
    "\n",
    "`label` - `str`, по умолчанию: `''`\n",
    "\n",
    "Подпись.\n",
    "\n",
    "### Горизонтальные линии\n",
    "\n",
    "    matplotlib.pyplot.hlines(y, xmin, xmax, colors=None, linestyles='solid', label='', *, data=None, **kwargs)\n",
    "\n",
    "Работает так же.\n",
    "\n",
    "### Стрелки\n",
    "\n",
    "    matplotlib.pyplot.arrow(x, y, dx, dy, **kwargs)\n",
    "\n",
    "Рисует стрелку из точки $(x, y)$ в точку $(x+dx, y+dy)$\n",
    "\n",
    "### Текст\n",
    "    matplotlib.pyplot.text(x, y, s, fontdict=None, **kwargs)\n",
    "\n",
    "Пишет текст `s` в точке $(x, y)$"
   ]
  },
  {
   "cell_type": "markdown",
   "metadata": {},
   "source": [
    "## Упражнение 3\n",
    "\n",
    "Постройте график для данных из файла `Chromo.txt` от 4 до 7 минут, покажите стрелкой максимум."
   ]
  },
  {
   "cell_type": "code",
   "execution_count": 42,
   "metadata": {},
   "outputs": [
    {
     "name": "stdout",
     "output_type": "stream",
     "text": [
      "17.578617 3308    5.513333\n",
      "Name: Time (min), dtype: float64\n"
     ]
    },
    {
     "data": {
      "text/plain": [
       "<matplotlib.patches.FancyArrow at 0x2378fba1f40>"
      ]
     },
     "execution_count": 42,
     "metadata": {},
     "output_type": "execute_result"
    },
    {
     "data": {
      "image/png": "[encoded data removed]",
      "text/plain": [
       "<Figure size 432x288 with 1 Axes>"
      ]
     },
     "metadata": {
      "needs_background": "light"
     },
     "output_type": "display_data"
    }
   ],
   "source": [
    "import pandas as pd\n",
    "import numpy as np\n",
    "import matplotlib.pyplot as plt\n",
    "\n",
    "Chromo_file = pd.read_csv('Chromo.txt', sep='\t')\n",
    "Chromo_file_new = Chromo_file[(Chromo_file['Time (min)'] >= 4) & (Chromo_file['Time (min)'] <= 7)]\n",
    "\n",
    "\n",
    "plt.scatter(Chromo_file_new['Time (min)'], Chromo_file_new['Value (mAU)'])\n",
    "print(max(Chromo_file_new['Value (mAU)']), Chromo_file_new[Chromo_file_new['Value (mAU)']==17.578617]['Time (min)'])\n",
    "plt.arrow(5, 0, 5.513333 - 5, 17.578617)\n"
   ]
  },
  {
   "cell_type": "markdown",
   "metadata": {},
   "source": [
    "## Упражнение 4\n",
    "\n",
    "Добавьте вертикальные и горизонтальные линии на значениях `50, 66, 85` на графике из упражнения 2."
   ]
  },
  {
   "cell_type": "code",
   "execution_count": null,
   "metadata": {},
   "outputs": [],
   "source": [
    "import pandas as pd\n",
    "import numpy as np\n",
    "import matplotlib.pyplot as plt\n",
    "\n",
    "students = pd.read_csv(\"StudentsPerformance.csv\")\n",
    "\n",
    "plt.scatter(students['math score'], students['reading score'], c=students['writing score'])\n",
    "plt.ylabel('Reading score')\n",
    "plt.xlabel('Math score')\n",
    "pyplot.vlines(x, ymin, ymax,\n",
    "plt.show()\n"
   ]
  }
 ],
 "metadata": {
  "kernelspec": {
   "display_name": "Python 3 (ipykernel)",
   "language": "python",
   "name": "python3"
  },
  "language_info": {
   "codemirror_mode": {
    "name": "ipython",
    "version": 3
   },
   "file_extension": ".py",
   "mimetype": "text/x-python",
   "name": "python",
   "nbconvert_exporter": "python",
   "pygments_lexer": "ipython3",
   "version": "3.9.7"
  },
  "toc": {
   "base_numbering": 1,
   "nav_menu": {},
   "number_sections": false,
   "sideBar": true,
   "skip_h1_title": false,
   "title_cell": "Table of Contents",
   "title_sidebar": "Contents",
   "toc_cell": false,
   "toc_position": {},
   "toc_section_display": true,
   "toc_window_display": false
  }
 },
 "nbformat": 4,
 "nbformat_minor": 4
}
